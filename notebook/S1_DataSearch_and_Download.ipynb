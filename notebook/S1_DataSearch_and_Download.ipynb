{
 "cells": [
  {
   "cell_type": "code",
   "execution_count": 5,
   "metadata": {},
   "outputs": [
    {
     "output_type": "stream",
     "name": "stdout",
     "text": [
      "\"kazushim\" 'target.geojson'\n"
     ]
    }
   ],
   "source": [
    "# SETTING #\n",
    "import configparser\n",
    "ini = configparser.ConfigParser()\n",
    "ini.read('./config_mk.ini', 'UTF-8')\n",
    "\n",
    "u_name = str(ini['scihub']['u_name']) #Copernics Open Access Hub\n",
    "u_pass = str(ini['scihub']['u_pass']) #Copernics Open Access Hub\n",
    "target_area = str(ini['scihub']['target_area'])\n",
    "start = str(ini['scihub']['start'])\n",
    "end = str(ini['scihub']['end'])"
   ]
  },
  {
   "cell_type": "code",
   "execution_count": null,
   "metadata": {},
   "outputs": [],
   "source": [
    "#Set SentinelAPI\n",
    "from sentinelsat.sentinel import SentinelAPI, read_geojson, geojson_to_wkt\n",
    "from datetime import date\n",
    "import os\n",
    "\n",
    "import geopandas as gpd\n",
    "import matplotlib.pyplot as plt\n",
    "\n",
    "%matplotlib inline\n",
    "plt.rcParams['figure.figsize'] = (20, 10)\n",
    "\n",
    "api = SentinelAPI(u_name, u_pass, 'https://scihub.copernicus.eu/dhus')"
   ]
  },
  {
   "cell_type": "code",
   "execution_count": null,
   "metadata": {},
   "outputs": [],
   "source": [
    "# search by polygon, time, and Hub query keywords\n",
    "footprint = geojson_to_wkt(read_geojson(target_area))\n",
    "\n",
    "products = api.query(footprint,\n",
    "                     date = (start,  end),\n",
    "                     platformname = 'Sentinel-1',\n",
    "                     producttype='SLC')\n",
    "\n",
    "print(\"Number of products found: %s\" % len(products))"
   ]
  },
  {
   "cell_type": "code",
   "execution_count": null,
   "metadata": {},
   "outputs": [],
   "source": [
    "world = gpd.read_file(gpd.datasets.get_path('naturalearth_lowres'))\n",
    "wbase = world.plot()\n",
    "api.to_geodataframe(products).plot(ax=wbase, color=\"red\")"
   ]
  },
  {
   "cell_type": "code",
   "execution_count": null,
   "metadata": {},
   "outputs": [],
   "source": [
    "products_gdf = api.to_geodataframe(products)\n",
    "products_gdf"
   ]
  },
  {
   "cell_type": "code",
   "execution_count": null,
   "metadata": {},
   "outputs": [],
   "source": [
    "# download single scene by known product id\n",
    "#api.download(<product_id>, directory_path='.')\n",
    "\n",
    "# search by polygon, time, and Hub query keywords\n",
    "footprint = geojson_to_wkt(read_geojson(target_area))\n",
    "products = api.query(footprint,\n",
    "                     date = (start,  end),\n",
    "                    platformname = 'Sentinel-1',\n",
    "                     producttype='SLC')\n",
    "\n",
    "# download all results from the search\n",
    "api.download_all(products, directory_path='.')\n",
    "\n",
    "# # GeoJSON FeatureCollection containing footprints and metadata of the scenes\n",
    "# api.to_geojson(products)\n",
    "\n",
    "# # GeoPandas GeoDataFrame with the metadata of the scenes and the footprints as geometries\n",
    "# api.to_geodataframe(products)\n",
    "\n",
    "# # Get basic information about the product: its title, file size, MD5 sum, date, footprint and\n",
    "# # its download url\n",
    "# api.get_product_odata(<product_id>)\n",
    "\n",
    "# # Get the product's full metadata available on the server\n",
    "# api.get_product_odata(<product_id>, full=True)"
   ]
  },
  {
   "cell_type": "code",
   "execution_count": null,
   "metadata": {},
   "outputs": [],
   "source": []
  }
 ],
 "metadata": {
  "kernelspec": {
   "name": "Python 3.7.6 64-bit ('SMC2020': conda)",
   "display_name": "Python 3.7.6 64-bit ('SMC2020': conda)",
   "metadata": {
    "interpreter": {
     "hash": "ef2ecf3764ce62bcfe7ecf5ffdda9d902b468c1343580cff75f2b3dadad6692e"
    }
   }
  },
  "language_info": {
   "codemirror_mode": {
    "name": "ipython",
    "version": 3
   },
   "file_extension": ".py",
   "mimetype": "text/x-python",
   "name": "python",
   "nbconvert_exporter": "python",
   "pygments_lexer": "ipython3",
   "version": "3.7.6-final"
  }
 },
 "nbformat": 4,
 "nbformat_minor": 2
}